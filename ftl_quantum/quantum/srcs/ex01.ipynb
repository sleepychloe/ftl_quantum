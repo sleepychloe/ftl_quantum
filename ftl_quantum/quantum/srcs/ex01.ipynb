{
 "cells": [
  {
   "cell_type": "code",
   "execution_count": 5,
   "id": "b0f3fe39",
   "metadata": {},
   "outputs": [],
   "source": [
    "import sys\n",
    "sys.path.append(\"./\")\n",
    "import color\n",
    "\n",
    "import os\n",
    "from dotenv import load_dotenv\n",
    "from qiskit_ibm_runtime import QiskitRuntimeService\n",
    "\n",
    "load_dotenv()\n",
    "QUANTUM_CHANNEL = os.getenv(\"QUANTUM_CHANNEL\")\n",
    "QUANTUM_IBMQ_TOKEN = os.getenv(\"QUANTUM_IBMQ_TOKEN\")\n",
    "\n",
    "CLOUD_CHANNEL = os.getenv(\"CLOUD_CHANNEL\")\n",
    "CLOUD_IBMQ_TOKEN = os.getenv(\"CLOUD_IBMQ_TOKEN\")\n",
    "CLOUD_INSTANCE_CRN = os.getenv(\"CLOUD_INSTANCE_CRN\")\n"
   ]
  },
  {
   "cell_type": "code",
   "execution_count": 6,
   "id": "a996f935",
   "metadata": {},
   "outputs": [],
   "source": [
    "\n",
    "def init_service(channel: str) -> QiskitRuntimeService:\n",
    "\tif (channel == \"quantum\"):\n",
    "\t\tservice = QiskitRuntimeService(channel=QUANTUM_CHANNEL,\n",
    "\t\t\t\t\t\ttoken=QUANTUM_IBMQ_TOKEN)\n",
    "\t\tprint(f\"{color.CYAN}Service initialized using the existing token☑️{color.BLACK}\\n\")\n",
    "\t\treturn (service)\n",
    "\telif (channel == \"cloud\"):\n",
    "\t\tservice = QiskitRuntimeService(channel=CLOUD_CHANNEL,\n",
    "\t\t\t\t\t\ttoken=CLOUD_IBMQ_TOKEN,\n",
    "\t\t\t\t\t\tinstance=CLOUD_INSTANCE_CRN)\n",
    "\t\tprint(f\"{color.CYAN}Service initialized using the existing token☑️{color.BLACK}\\n\")\n",
    "\t\treturn (service)\n",
    "\telse:\n",
    "\t\treturn (None)"
   ]
  },
  {
   "cell_type": "code",
   "execution_count": 7,
   "id": "dcf764a2",
   "metadata": {},
   "outputs": [],
   "source": [
    "def print_computor(service: QiskitRuntimeService) -> None:\n",
    "\tif not isinstance(service, QiskitRuntimeService):\n",
    "\t\treturn (print(f\"{color.RED}Error: cannot find service{color.BLACK}\"))\n",
    "\n",
    "\tprint(f\"{color.MAGENTA}Simulated quantum computers:{color.BLACK}\")\n",
    "\tfor simulated in service.backends(simulator=True):\n",
    "\t\tif simulated.status().operational:\n",
    "\t\t\tname =  simulated.name\n",
    "\t\t\tqueue = simulated.status().pending_jobs\n",
    "\t\t\tprint(f\"\\t{name:<20}has {queue:>4} queues\")\n",
    "\tprint(\"\\n\")\n",
    "\tprint(f\"{color.MAGENTA}Real quantum computers:{color.BLACK}\")\n",
    "\tfor real in service.backends(simulator=False):\n",
    "\t\tif real.status().operational:\n",
    "\t\t\tname = real.name\n",
    "\t\t\tqueue = real.status().pending_jobs\n",
    "\t\t\tqubit = real.configuration().num_qubits\n",
    "\t\t\tprint(f\"\\t{name:<20}has {queue:>4} queues with {qubit:>4} qubits\")\n"
   ]
  },
  {
   "cell_type": "code",
   "execution_count": 8,
   "id": "997f1c4a",
   "metadata": {},
   "outputs": [
    {
     "name": "stdout",
     "output_type": "stream",
     "text": [
      "\u001b[36m🐣 Test01: ibm_quantum channel 🐣\u001b[0m\n",
      "\n"
     ]
    },
    {
     "name": "stderr",
     "output_type": "stream",
     "text": [
      "/tmp/ipykernel_39989/3451853622.py:3: DeprecationWarning: The \"ibm_quantum\" channel option is deprecated and will be sunset on 1 July. After this date, ibm_cloud will be the only valid channel. For information on migrating to the new IBM Quantum Platform on the \"ibm_cloud\" channel, review the migration guide https://quantum.cloud.ibm.com/docs/migration-guides/classic-iqp-to-cloud-iqp .\n",
      "  service = QiskitRuntimeService(channel=QUANTUM_CHANNEL,\n"
     ]
    },
    {
     "name": "stdout",
     "output_type": "stream",
     "text": [
      "\u001b[36mService initialized using the existing token☑️\u001b[0m\n",
      "\n",
      "\u001b[35mSimulated quantum computers:\u001b[0m\n",
      "\n",
      "\n",
      "\u001b[35mReal quantum computers:\u001b[0m\n",
      "\tibm_brisbane        has  456 queues with  127 qubits\n",
      "\tibm_sherbrooke      has   28 queues with  127 qubits\n"
     ]
    }
   ],
   "source": [
    "print(f\"{color.CYAN}🐣 Test01: ibm_quantum channel 🐣{color.BLACK}\\n\")\n",
    "print_computor(init_service(\"quantum\"))\n"
   ]
  },
  {
   "cell_type": "code",
   "execution_count": 9,
   "id": "b744581c",
   "metadata": {},
   "outputs": [
    {
     "name": "stdout",
     "output_type": "stream",
     "text": [
      "\u001b[36m🐣 Test02: ibm_cloud channel 🐣\u001b[0m\n",
      "\n",
      "\u001b[36mService initialized using the existing token☑️\u001b[0m\n",
      "\n",
      "\u001b[35mSimulated quantum computers:\u001b[0m\n",
      "\n",
      "\n",
      "\u001b[35mReal quantum computers:\u001b[0m\n",
      "\tibm_brisbane        has  417 queues with  127 qubits\n",
      "\tibm_sherbrooke      has  169 queues with  127 qubits\n",
      "\tibm_torino          has   66 queues with  133 qubits\n"
     ]
    }
   ],
   "source": [
    "print(f\"{color.CYAN}🐣 Test02: ibm_cloud channel 🐣{color.BLACK}\\n\")\n",
    "print_computor(init_service(\"cloud\"))\n"
   ]
  },
  {
   "cell_type": "code",
   "execution_count": 10,
   "id": "fd7204cf",
   "metadata": {},
   "outputs": [
    {
     "name": "stdout",
     "output_type": "stream",
     "text": [
      "\u001b[36m🐣 Test03: error 🐣\u001b[0m\n",
      "\n",
      "\u001b[31mError: cannot find service\u001b[0m\n"
     ]
    }
   ],
   "source": [
    "print(f\"{color.CYAN}🐣 Test03: error 🐣{color.BLACK}\\n\")\n",
    "print_computor(init_service(\"something\"))\n"
   ]
  }
 ],
 "metadata": {
  "kernelspec": {
   "display_name": "Python 3",
   "language": "python",
   "name": "python3"
  },
  "language_info": {
   "codemirror_mode": {
    "name": "ipython",
    "version": 3
   },
   "file_extension": ".py",
   "mimetype": "text/x-python",
   "name": "python",
   "nbconvert_exporter": "python",
   "pygments_lexer": "ipython3",
   "version": "3.10.12"
  }
 },
 "nbformat": 4,
 "nbformat_minor": 5
}
